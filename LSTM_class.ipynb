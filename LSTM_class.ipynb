{
 "cells": [
  {
   "cell_type": "code",
   "execution_count": 1,
   "id": "fa474d27",
   "metadata": {},
   "outputs": [
    {
     "name": "stdout",
     "output_type": "stream",
     "text": [
      "Num GPUs Available:  1\n"
     ]
    }
   ],
   "source": [
    "import numpy as np\n",
    "import pandas as pd\n",
    "import tensorflow as tf\n",
    "import matplotlib.pyplot as plt\n",
    "from pathlib import Path\n",
    "import string\n",
    "import nltk\n",
    "\n",
    "%matplotlib inline\n",
    "\n",
    "\n",
    "import os\n",
    "os.environ['TF_CPP_MIN_LOG_LEVEL'] = '2'\n",
    "\n",
    "print(\"Num GPUs Available: \", len(tf.config.list_physical_devices('GPU')))"
   ]
  },
  {
   "cell_type": "markdown",
   "id": "409bf53b",
   "metadata": {},
   "source": [
    "## Загрузка и обработка данных"
   ]
  },
  {
   "cell_type": "code",
   "execution_count": 121,
   "id": "178d89d7",
   "metadata": {},
   "outputs": [],
   "source": [
    "train_df = pd.read_csv('kaggle_movie_train.csv', index_col=0)"
   ]
  },
  {
   "cell_type": "code",
   "execution_count": 79,
   "id": "d5163d4f",
   "metadata": {
    "scrolled": true
   },
   "outputs": [
    {
     "data": {
      "text/html": [
       "<div>\n",
       "<style scoped>\n",
       "    .dataframe tbody tr th:only-of-type {\n",
       "        vertical-align: middle;\n",
       "    }\n",
       "\n",
       "    .dataframe tbody tr th {\n",
       "        vertical-align: top;\n",
       "    }\n",
       "\n",
       "    .dataframe thead th {\n",
       "        text-align: right;\n",
       "    }\n",
       "</style>\n",
       "<table border=\"1\" class=\"dataframe\">\n",
       "  <thead>\n",
       "    <tr style=\"text-align: right;\">\n",
       "      <th></th>\n",
       "      <th>text</th>\n",
       "      <th>genre</th>\n",
       "    </tr>\n",
       "    <tr>\n",
       "      <th>id</th>\n",
       "      <th></th>\n",
       "      <th></th>\n",
       "    </tr>\n",
       "  </thead>\n",
       "  <tbody>\n",
       "    <tr>\n",
       "      <th>0</th>\n",
       "      <td>eady dead, maybe even wishing he was. INT. 2ND...</td>\n",
       "      <td>thriller</td>\n",
       "    </tr>\n",
       "    <tr>\n",
       "      <th>2</th>\n",
       "      <td>t, summa cum laude and all. And I'm about to l...</td>\n",
       "      <td>comedy</td>\n",
       "    </tr>\n",
       "    <tr>\n",
       "      <th>3</th>\n",
       "      <td>up Come, I have a surprise.... She takes him ...</td>\n",
       "      <td>drama</td>\n",
       "    </tr>\n",
       "    <tr>\n",
       "      <th>4</th>\n",
       "      <td>ded by the two detectives. INT. JEFF'S APARTME...</td>\n",
       "      <td>thriller</td>\n",
       "    </tr>\n",
       "    <tr>\n",
       "      <th>5</th>\n",
       "      <td>nd dismounts, just as the other children reach...</td>\n",
       "      <td>drama</td>\n",
       "    </tr>\n",
       "  </tbody>\n",
       "</table>\n",
       "</div>"
      ],
      "text/plain": [
       "                                                 text     genre\n",
       "id                                                             \n",
       "0   eady dead, maybe even wishing he was. INT. 2ND...  thriller\n",
       "2   t, summa cum laude and all. And I'm about to l...    comedy\n",
       "3    up Come, I have a surprise.... She takes him ...     drama\n",
       "4   ded by the two detectives. INT. JEFF'S APARTME...  thriller\n",
       "5   nd dismounts, just as the other children reach...     drama"
      ]
     },
     "execution_count": 79,
     "metadata": {},
     "output_type": "execute_result"
    }
   ],
   "source": [
    "# совсем чуть-чуть EDA\n",
    "\n",
    "train_df = pd.read_csv('kaggle_movie_train.csv', index_col=0)\n",
    "train_df.head()"
   ]
  },
  {
   "cell_type": "code",
   "execution_count": 80,
   "id": "eaabca1a",
   "metadata": {},
   "outputs": [
    {
     "name": "stdout",
     "output_type": "stream",
     "text": [
      "<class 'pandas.core.frame.DataFrame'>\n",
      "Int64Index: 22579 entries, 0 to 28166\n",
      "Data columns (total 2 columns):\n",
      " #   Column  Non-Null Count  Dtype \n",
      "---  ------  --------------  ----- \n",
      " 0   text    22579 non-null  object\n",
      " 1   genre   22579 non-null  object\n",
      "dtypes: object(2)\n",
      "memory usage: 529.2+ KB\n"
     ]
    }
   ],
   "source": [
    "train_df.info()"
   ]
  },
  {
   "cell_type": "code",
   "execution_count": 81,
   "id": "95f79184",
   "metadata": {},
   "outputs": [
    {
     "data": {
      "text/plain": [
       "array(['thriller', 'comedy', 'drama', 'action', 'sci-fi', 'other',\n",
       "       'romance', 'horror', 'adventure'], dtype=object)"
      ]
     },
     "execution_count": 81,
     "metadata": {},
     "output_type": "execute_result"
    }
   ],
   "source": [
    "train_df.genre.unique()"
   ]
  },
  {
   "cell_type": "code",
   "execution_count": 82,
   "id": "80cd075e",
   "metadata": {},
   "outputs": [
    {
     "data": {
      "text/plain": [
       "9"
      ]
     },
     "execution_count": 82,
     "metadata": {},
     "output_type": "execute_result"
    }
   ],
   "source": [
    "train_df.genre.nunique()"
   ]
  },
  {
   "cell_type": "code",
   "execution_count": 83,
   "id": "0a8baeea",
   "metadata": {},
   "outputs": [
    {
     "data": {
      "image/png": "[encoded data removed]",
      "text/plain": [
       "<Figure size 1080x504 with 1 Axes>"
      ]
     },
     "metadata": {
      "needs_background": "light"
     },
     "output_type": "display_data"
    }
   ],
   "source": [
    "# одним глазком на распределение таргета.\n",
    "\n",
    "plt.figure(figsize=(15, 7))\n",
    "plt.hist(\n",
    "    train_df.genre,\n",
    "    color='blue',\n",
    "    edgecolor='black'\n",
    ")\n",
    "plt.xticks(rotation=50);\n",
    "plt.grid()\n",
    "\n",
    "# Баланса никакого. Надо объединить мелкие группы в одну."
   ]
  },
  {
   "cell_type": "code",
   "execution_count": 84,
   "id": "a0ef9d2e",
   "metadata": {},
   "outputs": [
    {
     "data": {
      "text/plain": [
       "array(['thriller', 'comedy', 'drama', 'action', 'sci-fi', 'other',\n",
       "       'romance', 'horror', 'adventure'], dtype=object)"
      ]
     },
     "execution_count": 84,
     "metadata": {},
     "output_type": "execute_result"
    }
   ],
   "source": [
    "train_df.genre.unique()"
   ]
  },
  {
   "cell_type": "code",
   "execution_count": 85,
   "id": "0054006a",
   "metadata": {},
   "outputs": [],
   "source": [
    "# В этот список отправляются жанры, которые насчитывают меньше двух тысяч сэмплов\n",
    "\n",
    "others = train_df[train_df.groupby('genre')['genre'].transform('size') < 2000]\n",
    "others = list(others.genre.unique())"
   ]
  },
  {
   "cell_type": "code",
   "execution_count": 86,
   "id": "69dcb88d",
   "metadata": {},
   "outputs": [],
   "source": [
    "def genre_filter(genre: str):\n",
    "    \"\"\" little filtering function\n",
    "    \"\"\"\n",
    "    return genre if genre not in others else 'other'\n",
    "\n",
    "train_df['genre'] = train_df['genre'].apply(genre_filter)"
   ]
  },
  {
   "cell_type": "code",
   "execution_count": 122,
   "id": "1f6222cd",
   "metadata": {},
   "outputs": [
    {
     "data": {
      "text/html": [
       "<div>\n",
       "<style scoped>\n",
       "    .dataframe tbody tr th:only-of-type {\n",
       "        vertical-align: middle;\n",
       "    }\n",
       "\n",
       "    .dataframe tbody tr th {\n",
       "        vertical-align: top;\n",
       "    }\n",
       "\n",
       "    .dataframe thead th {\n",
       "        text-align: right;\n",
       "    }\n",
       "</style>\n",
       "<table border=\"1\" class=\"dataframe\">\n",
       "  <thead>\n",
       "    <tr style=\"text-align: right;\">\n",
       "      <th></th>\n",
       "      <th>text</th>\n",
       "      <th>genre</th>\n",
       "    </tr>\n",
       "    <tr>\n",
       "      <th>id</th>\n",
       "      <th></th>\n",
       "      <th></th>\n",
       "    </tr>\n",
       "  </thead>\n",
       "  <tbody>\n",
       "    <tr>\n",
       "      <th>0</th>\n",
       "      <td>eady dead, maybe even wishing he was. INT. 2ND...</td>\n",
       "      <td>thriller</td>\n",
       "    </tr>\n",
       "    <tr>\n",
       "      <th>2</th>\n",
       "      <td>t, summa cum laude and all. And I'm about to l...</td>\n",
       "      <td>comedy</td>\n",
       "    </tr>\n",
       "    <tr>\n",
       "      <th>3</th>\n",
       "      <td>up Come, I have a surprise.... She takes him ...</td>\n",
       "      <td>drama</td>\n",
       "    </tr>\n",
       "    <tr>\n",
       "      <th>4</th>\n",
       "      <td>ded by the two detectives. INT. JEFF'S APARTME...</td>\n",
       "      <td>thriller</td>\n",
       "    </tr>\n",
       "    <tr>\n",
       "      <th>5</th>\n",
       "      <td>nd dismounts, just as the other children reach...</td>\n",
       "      <td>drama</td>\n",
       "    </tr>\n",
       "    <tr>\n",
       "      <th>6</th>\n",
       "      <td>breadth of the bluff. Gabe pulls out his ancie...</td>\n",
       "      <td>thriller</td>\n",
       "    </tr>\n",
       "    <tr>\n",
       "      <th>7</th>\n",
       "      <td>uilding. A MAN in pajamas runs out into the ra...</td>\n",
       "      <td>thriller</td>\n",
       "    </tr>\n",
       "    <tr>\n",
       "      <th>9</th>\n",
       "      <td>ELLES AND RITA HAYWORTH Just disgustingly rich...</td>\n",
       "      <td>drama</td>\n",
       "    </tr>\n",
       "    <tr>\n",
       "      <th>10</th>\n",
       "      <td>Memphis goes back into the garage, Budgy cack...</td>\n",
       "      <td>thriller</td>\n",
       "    </tr>\n",
       "    <tr>\n",
       "      <th>11</th>\n",
       "      <td>e reels as the world spins. Sweat pours off hi...</td>\n",
       "      <td>action</td>\n",
       "    </tr>\n",
       "  </tbody>\n",
       "</table>\n",
       "</div>"
      ],
      "text/plain": [
       "                                                 text     genre\n",
       "id                                                             \n",
       "0   eady dead, maybe even wishing he was. INT. 2ND...  thriller\n",
       "2   t, summa cum laude and all. And I'm about to l...    comedy\n",
       "3    up Come, I have a surprise.... She takes him ...     drama\n",
       "4   ded by the two detectives. INT. JEFF'S APARTME...  thriller\n",
       "5   nd dismounts, just as the other children reach...     drama\n",
       "6   breadth of the bluff. Gabe pulls out his ancie...  thriller\n",
       "7   uilding. A MAN in pajamas runs out into the ra...  thriller\n",
       "9   ELLES AND RITA HAYWORTH Just disgustingly rich...     drama\n",
       "10   Memphis goes back into the garage, Budgy cack...  thriller\n",
       "11  e reels as the world spins. Sweat pours off hi...    action"
      ]
     },
     "execution_count": 122,
     "metadata": {},
     "output_type": "execute_result"
    }
   ],
   "source": [
    "train_df.head(10)"
   ]
  },
  {
   "cell_type": "code",
   "execution_count": 123,
   "id": "0ec13006",
   "metadata": {},
   "outputs": [
    {
     "data": {
      "image/png": "[encoded data removed]",
      "text/plain": [
       "<Figure size 1080x504 with 1 Axes>"
      ]
     },
     "metadata": {
      "needs_background": "light"
     },
     "output_type": "display_data"
    }
   ],
   "source": [
    "plt.figure(figsize=(15, 7))\n",
    "plt.hist(\n",
    "    train_df.genre,\n",
    "    color='blue',\n",
    "    edgecolor='black'\n",
    ")\n",
    "plt.xticks(rotation=50);\n",
    "plt.grid()\n",
    "\n",
    "# Гораздо лучше"
   ]
  },
  {
   "cell_type": "code",
   "execution_count": 90,
   "id": "503351bb",
   "metadata": {},
   "outputs": [
    {
     "name": "stdout",
     "output_type": "stream",
     "text": [
      "['i', 'me', 'my', 'myself', 'we', 'our', 'ours', 'ourselves', 'you', \"you're\"]\n"
     ]
    }
   ],
   "source": [
    "# nltk.download('stopwords')\n",
    "# nltk.download('punkt')\n",
    "\n",
    "# Для наших целей хватит небольшого словаря к кераса. \n",
    "# Запихаем туда также специальные значения\n",
    "\n",
    "vocabulary = tf.keras.datasets.imdb.get_word_index()\n",
    "vocabulary = {k: n + 3 for k, n in vocabulary.items()}\n",
    "\n",
    "vocabulary['<PAD>'] = 0\n",
    "vocabulary['<START>'] = 1\n",
    "vocabulary['<UNKNOWN>'] = 2\n",
    "\n",
    "\n",
    "# стоп-слова\n",
    "stop_words = nltk.corpus.stopwords.words('english')\n",
    "print(stop_words[:10])"
   ]
  },
  {
   "cell_type": "code",
   "execution_count": 92,
   "id": "c383529b",
   "metadata": {},
   "outputs": [],
   "source": [
    "# На этом шаге убираем стоп-слова, пунктуацию,\n",
    "# а также стараемся привести токены к одной словарной форме.  \n",
    "\n",
    "from nltk.stem import WordNetLemmatizer\n",
    "from nltk import word_tokenize\n",
    "\n",
    "lm = WordNetLemmatizer()\n",
    "\n",
    "def tokenize_words(raw_text: str):\n",
    "    text = [i.lower() for i in word_tokenize(raw_text)]\n",
    "    tokens = [i for i in text if (i not in stop_words and i not in string.punctuation)]\n",
    "    tokens = ['<START>'] + [lm.lemmatize(token) for token in tokens]\n",
    "    return ' '.join(tokens)\n",
    "\n",
    "\n",
    "train_df['description'] = train_df.text.apply(tokenize_words)"
   ]
  },
  {
   "cell_type": "code",
   "execution_count": 93,
   "id": "5134aca9",
   "metadata": {},
   "outputs": [
    {
     "name": "stdout",
     "output_type": "stream",
     "text": [
      "<START> r clothes torn body aching sweaty struggle get foot exit barn int halle sethe 's living quarter night sethe open door find child asleep wake notice mrs. garner 's light bedroom window sethe blind rage decides 's one thing must take child meeting place int mrs. garner 's bedroom night mrs. garner lie ailing sleepless night bedroom door open sethe enters appearance tell mrs. garner god sethe .. happened ext sweet home night sethe carried baby girl one arm two boy hand ... move fast ext corn field night arrive meeting place woman crouching field waiting woman hurry 're late sethe hand child howard ma'am ... sethe go tell ya sethe carefully hand baby gir \n",
      " ---------------- VS\n",
      "r clothes torn, her body aching and sweaty. She struggles to get to her feet and exit the barn. INT. HALLE AND SETHE'S LIVING QUARTERS NIGHT. Sethe opens the door to find her children asleep. She is about to wake them when She notices Mrs. Garner's light is on in her bedroom window. Sethe, blind with rage, decides there's one thing she must do before she takes her children to the meeting place. INT. MRS. GARNER'S BEDROOM NIGHT. Mrs. Garner lies ailing through a sleepless night when her bedroom door opens. Sethe enters her appearance tells all. MRS. GARNER My God Sethe..what happened to you? EXT. SWEET HOME NIGHT. Sethe carried her baby girl in one arm, her two boys by the hand with the other...They move as fast as they can. EXT. CORN FIELD NIGHT. They arrive at the meeting place where A WOMAN crouching in the field is waiting. WOMAN Hurry up. You're late. SETHE hands her the children Here! HOWARD But ma'am... SETHE Just go with her! Do what I tell ya! Sethe carefully hands her baby gir\n"
     ]
    }
   ],
   "source": [
    "# Посмотрим, что получилось. \n",
    "\n",
    "print(train_df.description.values[150], '\\n', '-' * 16, 'VS')\n",
    "print(train_df.text.values[150])"
   ]
  },
  {
   "cell_type": "markdown",
   "id": "77b46253",
   "metadata": {},
   "source": [
    "###  Подготовка данных к модели"
   ]
  },
  {
   "cell_type": "code",
   "execution_count": 94,
   "id": "5ec35cc5",
   "metadata": {
    "scrolled": true
   },
   "outputs": [],
   "source": [
    "def numerize_text(text: str):\n",
    "    \"\"\"function splits the docs and add special token 'unknown' for words absent\n",
    "    in our vocabulary.\n",
    "    \"\"\"\n",
    "    multi_hot_enc = [vocabulary.get(token, vocabulary['<UNKNOWN>']) for token in text.split()]\n",
    "    return multi_hot_enc"
   ]
  },
  {
   "cell_type": "code",
   "execution_count": 96,
   "id": "7de56ec0",
   "metadata": {},
   "outputs": [],
   "source": [
    "#Здесь даём каждому слову по индексу. \n",
    "X_train = train_df['description'].apply(numerize_text).to_numpy()\n",
    "\n",
    "# закодируем лейблы. \n",
    "genre_labels = {genre: number for number, genre in enumerate(list(train_df.genre.unique()))}\n",
    "y_train = train_df.genre.apply(lambda x: genre_labels[x]).to_numpy()\n",
    "\n",
    "# Небольшая проверочка. \n",
    "assert X_train.shape == y_train.shape"
   ]
  },
  {
   "cell_type": "code",
   "execution_count": 124,
   "id": "8455fcb8",
   "metadata": {},
   "outputs": [],
   "source": [
    "# Почти готово. Осталось только подвести последовательности к одной размерности.\n",
    "# Сначала посчитаем, сколько элементов насчитывает самая длинная последовательность\n",
    "\n",
    "MAX_SEQ_LEN = max([len(seq) for seq in X_train])\n",
    "\n",
    "\n",
    "X_train = tf.keras.preprocessing.sequence.pad_sequences(\n",
    "    X_train, \n",
    "    value=vocabulary['<PAD>'], # ==0\n",
    "    padding='post',\n",
    "    maxlen=MAX_SEQ_LEN\n",
    ")\n",
    "\n",
    "from sklearn.model_selection import train_test_split\n",
    "X_train, X_test, y_train, y_test = train_test_split(X_train, y_train, test_size=0.3, random_state=7575)\n",
    "\n",
    "assert X_train.shape[0] == y_train.shape[0]"
   ]
  },
  {
   "cell_type": "markdown",
   "id": "9f140815",
   "metadata": {},
   "source": [
    "###  Построение модели"
   ]
  },
  {
   "cell_type": "code",
   "execution_count": 131,
   "id": "78cb9eda",
   "metadata": {},
   "outputs": [
    {
     "name": "stdout",
     "output_type": "stream",
     "text": [
      "Model: \"sequential_12\"\n",
      "_________________________________________________________________\n",
      " Layer (type)                Output Shape              Param #   \n",
      "=================================================================\n",
      " embedding_12 (Embedding)    (None, None, 64)          5669632   \n",
      "                                                                 \n",
      " bidirectional_23 (Bidirecti  (None, None, 200)        132000    \n",
      " onal)                                                           \n",
      "                                                                 \n",
      " bidirectional_24 (Bidirecti  (None, 128)              135680    \n",
      " onal)                                                           \n",
      "                                                                 \n",
      " dense_23 (Dense)            (None, 9)                 1161      \n",
      "                                                                 \n",
      "=================================================================\n",
      "Total params: 5,938,473\n",
      "Trainable params: 5,938,473\n",
      "Non-trainable params: 0\n",
      "_________________________________________________________________\n"
     ]
    }
   ],
   "source": [
    "VOCAB_SIZE = len(vocabulary) + 1\n",
    "EMB_SIZE = 64\n",
    "genre_num = train_df.genre.nunique()\n",
    "\n",
    "model = tf.keras.models.Sequential([\n",
    "    tf.keras.layers.Embedding(VOCAB_SIZE, EMB_SIZE, mask_zero=True),\n",
    "    tf.keras.layers.Bidirectional(tf.keras.layers.LSTM(100, return_sequences=True)),\n",
    "    tf.keras.layers.Bidirectional(tf.keras.layers.LSTM(64, return_sequences=False)),\n",
    "    tf.keras.layers.Dense(genre_num, activation='softmax')\n",
    "])\n",
    "\n",
    "model.compile(\n",
    "    optimizer='adam',\n",
    "    loss='sparse_categorical_crossentropy',\n",
    "    metrics=['acc']\n",
    ")\n",
    "\n",
    "model.summary()"
   ]
  },
  {
   "cell_type": "code",
   "execution_count": 132,
   "id": "5b19a8b6",
   "metadata": {
    "scrolled": true
   },
   "outputs": [
    {
     "name": "stdout",
     "output_type": "stream",
     "text": [
      "Epoch 1/5\n",
      "346/346 [==============================] - 29s 56ms/step - loss: 1.2089 - acc: 0.5267 - val_loss: 0.7980 - val_acc: 0.7134\n",
      "Epoch 2/5\n",
      "346/346 [==============================] - 16s 46ms/step - loss: 0.5157 - acc: 0.8140 - val_loss: 0.6729 - val_acc: 0.7678\n",
      "Epoch 3/5\n",
      "346/346 [==============================] - 16s 47ms/step - loss: 0.2669 - acc: 0.9046 - val_loss: 0.6407 - val_acc: 0.7931\n",
      "Epoch 4/5\n",
      "346/346 [==============================] - 16s 46ms/step - loss: 0.1576 - acc: 0.9461 - val_loss: 0.7018 - val_acc: 0.7830\n",
      "Epoch 5/5\n",
      "346/346 [==============================] - 16s 47ms/step - loss: 0.0720 - acc: 0.9770 - val_loss: 0.6860 - val_acc: 0.8229\n"
     ]
    }
   ],
   "source": [
    "BATCH_SIZE = 32\n",
    "NUM_EPOCHS = 5\n",
    "\n",
    "checkpoint_path = 'checkpoints'\n",
    "callback = tf.keras.callbacks.ModelCheckpoint(\n",
    "    filepath=checkpoint_path,\n",
    "    save_best_only=True\n",
    ")\n",
    "\n",
    "history = model.fit(\n",
    "    X_train, \n",
    "    y_train,\n",
    "    epochs=NUM_EPOCHS,\n",
    "    batch_size=BATCH_SIZE,\n",
    "    validation_data=(X_test, y_test),\n",
    "    verbose=1,\n",
    "    shuffle=True,\n",
    "    workers=8,\n",
    "    callbacks=[callback]\n",
    ")"
   ]
  },
  {
   "cell_type": "code",
   "execution_count": 133,
   "id": "21957692",
   "metadata": {},
   "outputs": [
    {
     "data": {
      "image/png": "[encoded data removed]",
      "text/plain": [
       "<Figure size 432x288 with 1 Axes>"
      ]
     },
     "metadata": {
      "needs_background": "light"
     },
     "output_type": "display_data"
    }
   ],
   "source": [
    "epochs = range(1, len(history.history['acc']) + 1)\n",
    "\n",
    "plt.figure()\n",
    "plt.plot(epochs, history.history['loss'], 'bo', label='Training loss')\n",
    "plt.plot(epochs, history.history['val_loss'], 'b', label='Validation loss')\n",
    "plt.title('Training and validation loss')\n",
    "plt.xlabel('Epochs')\n",
    "plt.ylabel('Loss')\n",
    "plt.legend()\n",
    "plt.grid()"
   ]
  },
  {
   "cell_type": "code",
   "execution_count": 134,
   "id": "71b5311d",
   "metadata": {},
   "outputs": [
    {
     "data": {
      "image/png": "[encoded data removed]",
      "text/plain": [
       "<Figure size 432x288 with 1 Axes>"
      ]
     },
     "metadata": {
      "needs_background": "light"
     },
     "output_type": "display_data"
    }
   ],
   "source": [
    "plt.figure()\n",
    "plt.plot(epochs, history.history['acc'], 'bo', label='Training acc')\n",
    "plt.plot(epochs, history.history['val_acc'], 'b', label='Validation acc')\n",
    "plt.title('Training and validation accuracy')\n",
    "plt.xlabel('Epochs')\n",
    "plt.ylabel('Accuracy')\n",
    "plt.legend()\n",
    "plt.grid()"
   ]
  }
 ],
 "metadata": {
  "kernelspec": {
   "display_name": "Python 3 (ipykernel)",
   "language": "python",
   "name": "python3"
  },
  "language_info": {
   "codemirror_mode": {
    "name": "ipython",
    "version": 3
   },
   "file_extension": ".py",
   "mimetype": "text/x-python",
   "name": "python",
   "nbconvert_exporter": "python",
   "pygments_lexer": "ipython3",
   "version": "3.9.7"
  }
 },
 "nbformat": 4,
 "nbformat_minor": 5
}
